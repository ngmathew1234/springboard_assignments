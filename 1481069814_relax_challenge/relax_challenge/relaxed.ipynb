{
 "cells": [
  {
   "cell_type": "code",
   "execution_count": 1,
   "metadata": {},
   "outputs": [],
   "source": [
    "import pandas as pd\n",
    "import numpy as np"
   ]
  },
  {
   "cell_type": "code",
   "execution_count": 2,
   "metadata": {},
   "outputs": [],
   "source": [
    "engagement = pd.read_csv('takehome_user_engagement.csv')\n",
    "engagement = engagement.set_index(pd.DatetimeIndex(engagement['time_stamp']))\n",
    "users = pd.read_csv('takehome_users.csv',encoding='latin-1')\n"
   ]
  },
  {
   "cell_type": "code",
   "execution_count": 3,
   "metadata": {},
   "outputs": [
    {
     "data": {
      "text/html": [
       "<div>\n",
       "<style scoped>\n",
       "    .dataframe tbody tr th:only-of-type {\n",
       "        vertical-align: middle;\n",
       "    }\n",
       "\n",
       "    .dataframe tbody tr th {\n",
       "        vertical-align: top;\n",
       "    }\n",
       "\n",
       "    .dataframe thead th {\n",
       "        text-align: right;\n",
       "    }\n",
       "</style>\n",
       "<table border=\"1\" class=\"dataframe\">\n",
       "  <thead>\n",
       "    <tr style=\"text-align: right;\">\n",
       "      <th></th>\n",
       "      <th>object_id</th>\n",
       "      <th>creation_time</th>\n",
       "      <th>name</th>\n",
       "      <th>email</th>\n",
       "      <th>creation_source</th>\n",
       "      <th>last_session_creation_time</th>\n",
       "      <th>opted_in_to_mailing_list</th>\n",
       "      <th>enabled_for_marketing_drip</th>\n",
       "      <th>org_id</th>\n",
       "      <th>invited_by_user_id</th>\n",
       "    </tr>\n",
       "  </thead>\n",
       "  <tbody>\n",
       "    <tr>\n",
       "      <th>0</th>\n",
       "      <td>1</td>\n",
       "      <td>2014-04-22 03:53:30</td>\n",
       "      <td>Clausen August</td>\n",
       "      <td>AugustCClausen@yahoo.com</td>\n",
       "      <td>GUEST_INVITE</td>\n",
       "      <td>1.398139e+09</td>\n",
       "      <td>1</td>\n",
       "      <td>0</td>\n",
       "      <td>11</td>\n",
       "      <td>10803.0</td>\n",
       "    </tr>\n",
       "    <tr>\n",
       "      <th>1</th>\n",
       "      <td>2</td>\n",
       "      <td>2013-11-15 03:45:04</td>\n",
       "      <td>Poole Matthew</td>\n",
       "      <td>MatthewPoole@gustr.com</td>\n",
       "      <td>ORG_INVITE</td>\n",
       "      <td>1.396238e+09</td>\n",
       "      <td>0</td>\n",
       "      <td>0</td>\n",
       "      <td>1</td>\n",
       "      <td>316.0</td>\n",
       "    </tr>\n",
       "    <tr>\n",
       "      <th>2</th>\n",
       "      <td>3</td>\n",
       "      <td>2013-03-19 23:14:52</td>\n",
       "      <td>Bottrill Mitchell</td>\n",
       "      <td>MitchellBottrill@gustr.com</td>\n",
       "      <td>ORG_INVITE</td>\n",
       "      <td>1.363735e+09</td>\n",
       "      <td>0</td>\n",
       "      <td>0</td>\n",
       "      <td>94</td>\n",
       "      <td>1525.0</td>\n",
       "    </tr>\n",
       "    <tr>\n",
       "      <th>3</th>\n",
       "      <td>4</td>\n",
       "      <td>2013-05-21 08:09:28</td>\n",
       "      <td>Clausen Nicklas</td>\n",
       "      <td>NicklasSClausen@yahoo.com</td>\n",
       "      <td>GUEST_INVITE</td>\n",
       "      <td>1.369210e+09</td>\n",
       "      <td>0</td>\n",
       "      <td>0</td>\n",
       "      <td>1</td>\n",
       "      <td>5151.0</td>\n",
       "    </tr>\n",
       "    <tr>\n",
       "      <th>4</th>\n",
       "      <td>5</td>\n",
       "      <td>2013-01-17 10:14:20</td>\n",
       "      <td>Raw Grace</td>\n",
       "      <td>GraceRaw@yahoo.com</td>\n",
       "      <td>GUEST_INVITE</td>\n",
       "      <td>1.358850e+09</td>\n",
       "      <td>0</td>\n",
       "      <td>0</td>\n",
       "      <td>193</td>\n",
       "      <td>5240.0</td>\n",
       "    </tr>\n",
       "  </tbody>\n",
       "</table>\n",
       "</div>"
      ],
      "text/plain": [
       "   object_id        creation_time               name  \\\n",
       "0          1  2014-04-22 03:53:30     Clausen August   \n",
       "1          2  2013-11-15 03:45:04      Poole Matthew   \n",
       "2          3  2013-03-19 23:14:52  Bottrill Mitchell   \n",
       "3          4  2013-05-21 08:09:28    Clausen Nicklas   \n",
       "4          5  2013-01-17 10:14:20          Raw Grace   \n",
       "\n",
       "                        email creation_source  last_session_creation_time  \\\n",
       "0    AugustCClausen@yahoo.com    GUEST_INVITE                1.398139e+09   \n",
       "1      MatthewPoole@gustr.com      ORG_INVITE                1.396238e+09   \n",
       "2  MitchellBottrill@gustr.com      ORG_INVITE                1.363735e+09   \n",
       "3   NicklasSClausen@yahoo.com    GUEST_INVITE                1.369210e+09   \n",
       "4          GraceRaw@yahoo.com    GUEST_INVITE                1.358850e+09   \n",
       "\n",
       "   opted_in_to_mailing_list  enabled_for_marketing_drip  org_id  \\\n",
       "0                         1                           0      11   \n",
       "1                         0                           0       1   \n",
       "2                         0                           0      94   \n",
       "3                         0                           0       1   \n",
       "4                         0                           0     193   \n",
       "\n",
       "   invited_by_user_id  \n",
       "0             10803.0  \n",
       "1               316.0  \n",
       "2              1525.0  \n",
       "3              5151.0  \n",
       "4              5240.0  "
      ]
     },
     "execution_count": 3,
     "metadata": {},
     "output_type": "execute_result"
    }
   ],
   "source": [
    "users.head()"
   ]
  },
  {
   "cell_type": "code",
   "execution_count": 4,
   "metadata": {},
   "outputs": [
    {
     "data": {
      "text/html": [
       "<div>\n",
       "<style scoped>\n",
       "    .dataframe tbody tr th:only-of-type {\n",
       "        vertical-align: middle;\n",
       "    }\n",
       "\n",
       "    .dataframe tbody tr th {\n",
       "        vertical-align: top;\n",
       "    }\n",
       "\n",
       "    .dataframe thead th {\n",
       "        text-align: right;\n",
       "    }\n",
       "</style>\n",
       "<table border=\"1\" class=\"dataframe\">\n",
       "  <thead>\n",
       "    <tr style=\"text-align: right;\">\n",
       "      <th></th>\n",
       "      <th>time_stamp</th>\n",
       "      <th>user_id</th>\n",
       "      <th>visited</th>\n",
       "    </tr>\n",
       "    <tr>\n",
       "      <th>time_stamp</th>\n",
       "      <th></th>\n",
       "      <th></th>\n",
       "      <th></th>\n",
       "    </tr>\n",
       "  </thead>\n",
       "  <tbody>\n",
       "    <tr>\n",
       "      <th>2014-04-22 03:53:30</th>\n",
       "      <td>2014-04-22 03:53:30</td>\n",
       "      <td>1</td>\n",
       "      <td>1</td>\n",
       "    </tr>\n",
       "    <tr>\n",
       "      <th>2013-11-15 03:45:04</th>\n",
       "      <td>2013-11-15 03:45:04</td>\n",
       "      <td>2</td>\n",
       "      <td>1</td>\n",
       "    </tr>\n",
       "    <tr>\n",
       "      <th>2013-11-29 03:45:04</th>\n",
       "      <td>2013-11-29 03:45:04</td>\n",
       "      <td>2</td>\n",
       "      <td>1</td>\n",
       "    </tr>\n",
       "    <tr>\n",
       "      <th>2013-12-09 03:45:04</th>\n",
       "      <td>2013-12-09 03:45:04</td>\n",
       "      <td>2</td>\n",
       "      <td>1</td>\n",
       "    </tr>\n",
       "    <tr>\n",
       "      <th>2013-12-25 03:45:04</th>\n",
       "      <td>2013-12-25 03:45:04</td>\n",
       "      <td>2</td>\n",
       "      <td>1</td>\n",
       "    </tr>\n",
       "  </tbody>\n",
       "</table>\n",
       "</div>"
      ],
      "text/plain": [
       "                              time_stamp  user_id  visited\n",
       "time_stamp                                                \n",
       "2014-04-22 03:53:30  2014-04-22 03:53:30        1        1\n",
       "2013-11-15 03:45:04  2013-11-15 03:45:04        2        1\n",
       "2013-11-29 03:45:04  2013-11-29 03:45:04        2        1\n",
       "2013-12-09 03:45:04  2013-12-09 03:45:04        2        1\n",
       "2013-12-25 03:45:04  2013-12-25 03:45:04        2        1"
      ]
     },
     "execution_count": 4,
     "metadata": {},
     "output_type": "execute_result"
    }
   ],
   "source": [
    "engagement.head()"
   ]
  },
  {
   "cell_type": "code",
   "execution_count": 5,
   "metadata": {},
   "outputs": [],
   "source": [
    "#groups visted by user and then date \n",
    "uservisted = engagement.groupby('user_id').resample('7D').sum()\n"
   ]
  },
  {
   "cell_type": "code",
   "execution_count": 6,
   "metadata": {},
   "outputs": [
    {
     "data": {
      "text/html": [
       "<div>\n",
       "<style scoped>\n",
       "    .dataframe tbody tr th:only-of-type {\n",
       "        vertical-align: middle;\n",
       "    }\n",
       "\n",
       "    .dataframe tbody tr th {\n",
       "        vertical-align: top;\n",
       "    }\n",
       "\n",
       "    .dataframe thead th {\n",
       "        text-align: right;\n",
       "    }\n",
       "</style>\n",
       "<table border=\"1\" class=\"dataframe\">\n",
       "  <thead>\n",
       "    <tr style=\"text-align: right;\">\n",
       "      <th></th>\n",
       "      <th></th>\n",
       "      <th>user_id</th>\n",
       "      <th>visited</th>\n",
       "    </tr>\n",
       "    <tr>\n",
       "      <th>user_id</th>\n",
       "      <th>time_stamp</th>\n",
       "      <th></th>\n",
       "      <th></th>\n",
       "    </tr>\n",
       "  </thead>\n",
       "  <tbody>\n",
       "    <tr>\n",
       "      <th>1</th>\n",
       "      <th>2014-04-22</th>\n",
       "      <td>1</td>\n",
       "      <td>1</td>\n",
       "    </tr>\n",
       "    <tr>\n",
       "      <th rowspan=\"19\" valign=\"top\">2</th>\n",
       "      <th>2013-11-15</th>\n",
       "      <td>2</td>\n",
       "      <td>1</td>\n",
       "    </tr>\n",
       "    <tr>\n",
       "      <th>2013-11-22</th>\n",
       "      <td>0</td>\n",
       "      <td>0</td>\n",
       "    </tr>\n",
       "    <tr>\n",
       "      <th>2013-11-29</th>\n",
       "      <td>2</td>\n",
       "      <td>1</td>\n",
       "    </tr>\n",
       "    <tr>\n",
       "      <th>2013-12-06</th>\n",
       "      <td>2</td>\n",
       "      <td>1</td>\n",
       "    </tr>\n",
       "    <tr>\n",
       "      <th>2013-12-13</th>\n",
       "      <td>0</td>\n",
       "      <td>0</td>\n",
       "    </tr>\n",
       "    <tr>\n",
       "      <th>2013-12-20</th>\n",
       "      <td>2</td>\n",
       "      <td>1</td>\n",
       "    </tr>\n",
       "    <tr>\n",
       "      <th>2013-12-27</th>\n",
       "      <td>2</td>\n",
       "      <td>1</td>\n",
       "    </tr>\n",
       "    <tr>\n",
       "      <th>2014-01-03</th>\n",
       "      <td>2</td>\n",
       "      <td>1</td>\n",
       "    </tr>\n",
       "    <tr>\n",
       "      <th>2014-01-10</th>\n",
       "      <td>0</td>\n",
       "      <td>0</td>\n",
       "    </tr>\n",
       "    <tr>\n",
       "      <th>2014-01-17</th>\n",
       "      <td>0</td>\n",
       "      <td>0</td>\n",
       "    </tr>\n",
       "    <tr>\n",
       "      <th>2014-01-24</th>\n",
       "      <td>0</td>\n",
       "      <td>0</td>\n",
       "    </tr>\n",
       "    <tr>\n",
       "      <th>2014-01-31</th>\n",
       "      <td>2</td>\n",
       "      <td>1</td>\n",
       "    </tr>\n",
       "    <tr>\n",
       "      <th>2014-02-07</th>\n",
       "      <td>6</td>\n",
       "      <td>3</td>\n",
       "    </tr>\n",
       "    <tr>\n",
       "      <th>2014-02-14</th>\n",
       "      <td>2</td>\n",
       "      <td>1</td>\n",
       "    </tr>\n",
       "    <tr>\n",
       "      <th>2014-02-21</th>\n",
       "      <td>0</td>\n",
       "      <td>0</td>\n",
       "    </tr>\n",
       "    <tr>\n",
       "      <th>2014-02-28</th>\n",
       "      <td>0</td>\n",
       "      <td>0</td>\n",
       "    </tr>\n",
       "    <tr>\n",
       "      <th>2014-03-07</th>\n",
       "      <td>4</td>\n",
       "      <td>2</td>\n",
       "    </tr>\n",
       "    <tr>\n",
       "      <th>2014-03-14</th>\n",
       "      <td>0</td>\n",
       "      <td>0</td>\n",
       "    </tr>\n",
       "    <tr>\n",
       "      <th>2014-03-21</th>\n",
       "      <td>0</td>\n",
       "      <td>0</td>\n",
       "    </tr>\n",
       "  </tbody>\n",
       "</table>\n",
       "</div>"
      ],
      "text/plain": [
       "                    user_id  visited\n",
       "user_id time_stamp                  \n",
       "1       2014-04-22        1        1\n",
       "2       2013-11-15        2        1\n",
       "        2013-11-22        0        0\n",
       "        2013-11-29        2        1\n",
       "        2013-12-06        2        1\n",
       "        2013-12-13        0        0\n",
       "        2013-12-20        2        1\n",
       "        2013-12-27        2        1\n",
       "        2014-01-03        2        1\n",
       "        2014-01-10        0        0\n",
       "        2014-01-17        0        0\n",
       "        2014-01-24        0        0\n",
       "        2014-01-31        2        1\n",
       "        2014-02-07        6        3\n",
       "        2014-02-14        2        1\n",
       "        2014-02-21        0        0\n",
       "        2014-02-28        0        0\n",
       "        2014-03-07        4        2\n",
       "        2014-03-14        0        0\n",
       "        2014-03-21        0        0"
      ]
     },
     "execution_count": 6,
     "metadata": {},
     "output_type": "execute_result"
    }
   ],
   "source": [
    "uservisted.head(20)"
   ]
  },
  {
   "cell_type": "code",
   "execution_count": 7,
   "metadata": {},
   "outputs": [],
   "source": [
    "#removes weeks that are null\n",
    "uservisted = uservisted[uservisted['user_id'].isnull()==False].drop('user_id',axis=1)"
   ]
  },
  {
   "cell_type": "code",
   "execution_count": 8,
   "metadata": {},
   "outputs": [],
   "source": [
    "#get the adopted users\n",
    "adopted = uservisted['visited']>=3"
   ]
  },
  {
   "cell_type": "code",
   "execution_count": 9,
   "metadata": {},
   "outputs": [
    {
     "data": {
      "text/plain": [
       "user_id  time_stamp\n",
       "1        2014-04-22    False\n",
       "2        2013-11-15    False\n",
       "         2013-11-22    False\n",
       "         2013-11-29    False\n",
       "         2013-12-06    False\n",
       "Name: visited, dtype: bool"
      ]
     },
     "execution_count": 9,
     "metadata": {},
     "output_type": "execute_result"
    }
   ],
   "source": [
    "adopted.head()"
   ]
  },
  {
   "cell_type": "code",
   "execution_count": 10,
   "metadata": {},
   "outputs": [],
   "source": [
    "#group them by week \n",
    "adopted = adopted.groupby(level=0).apply(np.sum)"
   ]
  },
  {
   "cell_type": "code",
   "execution_count": 11,
   "metadata": {},
   "outputs": [],
   "source": [
    "#remove users who are not adopted \n",
    "adopted = adopted[adopted!=0]\n",
    "adopted = pd.DataFrame(adopted,index=adopted.index)\n",
    "adopted.columns = ['Adopteduser']"
   ]
  },
  {
   "cell_type": "code",
   "execution_count": 12,
   "metadata": {},
   "outputs": [
    {
     "data": {
      "text/html": [
       "<div>\n",
       "<style scoped>\n",
       "    .dataframe tbody tr th:only-of-type {\n",
       "        vertical-align: middle;\n",
       "    }\n",
       "\n",
       "    .dataframe tbody tr th {\n",
       "        vertical-align: top;\n",
       "    }\n",
       "\n",
       "    .dataframe thead th {\n",
       "        text-align: right;\n",
       "    }\n",
       "</style>\n",
       "<table border=\"1\" class=\"dataframe\">\n",
       "  <thead>\n",
       "    <tr style=\"text-align: right;\">\n",
       "      <th></th>\n",
       "      <th>Adopteduser</th>\n",
       "      <th>object_id</th>\n",
       "      <th>creation_time</th>\n",
       "      <th>name</th>\n",
       "      <th>email</th>\n",
       "      <th>creation_source</th>\n",
       "      <th>last_session_creation_time</th>\n",
       "      <th>opted_in_to_mailing_list</th>\n",
       "      <th>enabled_for_marketing_drip</th>\n",
       "      <th>org_id</th>\n",
       "      <th>invited_by_user_id</th>\n",
       "    </tr>\n",
       "  </thead>\n",
       "  <tbody>\n",
       "    <tr>\n",
       "      <th>1</th>\n",
       "      <td>1</td>\n",
       "      <td>2</td>\n",
       "      <td>2013-11-15 03:45:04</td>\n",
       "      <td>Poole Matthew</td>\n",
       "      <td>MatthewPoole@gustr.com</td>\n",
       "      <td>ORG_INVITE</td>\n",
       "      <td>1.396238e+09</td>\n",
       "      <td>0</td>\n",
       "      <td>0</td>\n",
       "      <td>1</td>\n",
       "      <td>316.0</td>\n",
       "    </tr>\n",
       "    <tr>\n",
       "      <th>9</th>\n",
       "      <td>53</td>\n",
       "      <td>10</td>\n",
       "      <td>2013-01-16 22:08:03</td>\n",
       "      <td>Santos Carla</td>\n",
       "      <td>CarlaFerreiraSantos@gustr.com</td>\n",
       "      <td>ORG_INVITE</td>\n",
       "      <td>1.401833e+09</td>\n",
       "      <td>1</td>\n",
       "      <td>1</td>\n",
       "      <td>318</td>\n",
       "      <td>4143.0</td>\n",
       "    </tr>\n",
       "    <tr>\n",
       "      <th>19</th>\n",
       "      <td>1</td>\n",
       "      <td>20</td>\n",
       "      <td>2014-03-06 11:46:38</td>\n",
       "      <td>Helms Mikayla</td>\n",
       "      <td>lqyvjilf@uhzdq.com</td>\n",
       "      <td>SIGNUP</td>\n",
       "      <td>1.401364e+09</td>\n",
       "      <td>0</td>\n",
       "      <td>0</td>\n",
       "      <td>58</td>\n",
       "      <td>NaN</td>\n",
       "    </tr>\n",
       "    <tr>\n",
       "      <th>41</th>\n",
       "      <td>66</td>\n",
       "      <td>42</td>\n",
       "      <td>2012-11-11 19:05:07</td>\n",
       "      <td>Pinto Giovanna</td>\n",
       "      <td>GiovannaCunhaPinto@cuvox.de</td>\n",
       "      <td>SIGNUP</td>\n",
       "      <td>1.401045e+09</td>\n",
       "      <td>1</td>\n",
       "      <td>0</td>\n",
       "      <td>235</td>\n",
       "      <td>NaN</td>\n",
       "    </tr>\n",
       "    <tr>\n",
       "      <th>42</th>\n",
       "      <td>1</td>\n",
       "      <td>43</td>\n",
       "      <td>2012-12-31 07:13:17</td>\n",
       "      <td>Gomes Beatrice</td>\n",
       "      <td>vgqmpljq@yyyxt.com</td>\n",
       "      <td>GUEST_INVITE</td>\n",
       "      <td>1.366010e+09</td>\n",
       "      <td>0</td>\n",
       "      <td>0</td>\n",
       "      <td>63</td>\n",
       "      <td>149.0</td>\n",
       "    </tr>\n",
       "  </tbody>\n",
       "</table>\n",
       "</div>"
      ],
      "text/plain": [
       "    Adopteduser  object_id        creation_time            name  \\\n",
       "1             1          2  2013-11-15 03:45:04   Poole Matthew   \n",
       "9            53         10  2013-01-16 22:08:03    Santos Carla   \n",
       "19            1         20  2014-03-06 11:46:38   Helms Mikayla   \n",
       "41           66         42  2012-11-11 19:05:07  Pinto Giovanna   \n",
       "42            1         43  2012-12-31 07:13:17  Gomes Beatrice   \n",
       "\n",
       "                            email creation_source  last_session_creation_time  \\\n",
       "1          MatthewPoole@gustr.com      ORG_INVITE                1.396238e+09   \n",
       "9   CarlaFerreiraSantos@gustr.com      ORG_INVITE                1.401833e+09   \n",
       "19             lqyvjilf@uhzdq.com          SIGNUP                1.401364e+09   \n",
       "41    GiovannaCunhaPinto@cuvox.de          SIGNUP                1.401045e+09   \n",
       "42             vgqmpljq@yyyxt.com    GUEST_INVITE                1.366010e+09   \n",
       "\n",
       "    opted_in_to_mailing_list  enabled_for_marketing_drip  org_id  \\\n",
       "1                          0                           0       1   \n",
       "9                          1                           1     318   \n",
       "19                         0                           0      58   \n",
       "41                         1                           0     235   \n",
       "42                         0                           0      63   \n",
       "\n",
       "    invited_by_user_id  \n",
       "1                316.0  \n",
       "9               4143.0  \n",
       "19                 NaN  \n",
       "41                 NaN  \n",
       "42               149.0  "
      ]
     },
     "execution_count": 12,
     "metadata": {},
     "output_type": "execute_result"
    }
   ],
   "source": [
    "totaldf = adopted.merge(users,left_index=True,right_on='object_id',how='inner')\n",
    "totaldf.head()"
   ]
  },
  {
   "cell_type": "code",
   "execution_count": 13,
   "metadata": {},
   "outputs": [],
   "source": [
    "totaldf = adopted.merge(users,left_index=True,right_on='object_id',how='inner')\n",
    "totaldf['Adopted']=1"
   ]
  },
  {
   "cell_type": "code",
   "execution_count": 14,
   "metadata": {},
   "outputs": [],
   "source": [
    "users['Adopted']=int(0)\n",
    "users.iloc[list(totaldf.index),10]=1\n",
    "finalData = users.set_index('object_id').sort_index()\n"
   ]
  },
  {
   "cell_type": "code",
   "execution_count": 15,
   "metadata": {},
   "outputs": [
    {
     "data": {
      "text/html": [
       "<div>\n",
       "<style scoped>\n",
       "    .dataframe tbody tr th:only-of-type {\n",
       "        vertical-align: middle;\n",
       "    }\n",
       "\n",
       "    .dataframe tbody tr th {\n",
       "        vertical-align: top;\n",
       "    }\n",
       "\n",
       "    .dataframe thead th {\n",
       "        text-align: right;\n",
       "    }\n",
       "</style>\n",
       "<table border=\"1\" class=\"dataframe\">\n",
       "  <thead>\n",
       "    <tr style=\"text-align: right;\">\n",
       "      <th></th>\n",
       "      <th>creation_source</th>\n",
       "      <th>opted_in_to_mailing_list</th>\n",
       "      <th>enabled_for_marketing_drip</th>\n",
       "      <th>org_id</th>\n",
       "      <th>invited_by_user_id</th>\n",
       "      <th>Adopted</th>\n",
       "    </tr>\n",
       "    <tr>\n",
       "      <th>object_id</th>\n",
       "      <th></th>\n",
       "      <th></th>\n",
       "      <th></th>\n",
       "      <th></th>\n",
       "      <th></th>\n",
       "      <th></th>\n",
       "    </tr>\n",
       "  </thead>\n",
       "  <tbody>\n",
       "    <tr>\n",
       "      <th>1</th>\n",
       "      <td>GUEST_INVITE</td>\n",
       "      <td>1</td>\n",
       "      <td>0</td>\n",
       "      <td>11</td>\n",
       "      <td>10803.0</td>\n",
       "      <td>0</td>\n",
       "    </tr>\n",
       "    <tr>\n",
       "      <th>2</th>\n",
       "      <td>ORG_INVITE</td>\n",
       "      <td>0</td>\n",
       "      <td>0</td>\n",
       "      <td>1</td>\n",
       "      <td>316.0</td>\n",
       "      <td>1</td>\n",
       "    </tr>\n",
       "    <tr>\n",
       "      <th>3</th>\n",
       "      <td>ORG_INVITE</td>\n",
       "      <td>0</td>\n",
       "      <td>0</td>\n",
       "      <td>94</td>\n",
       "      <td>1525.0</td>\n",
       "      <td>0</td>\n",
       "    </tr>\n",
       "    <tr>\n",
       "      <th>4</th>\n",
       "      <td>GUEST_INVITE</td>\n",
       "      <td>0</td>\n",
       "      <td>0</td>\n",
       "      <td>1</td>\n",
       "      <td>5151.0</td>\n",
       "      <td>0</td>\n",
       "    </tr>\n",
       "    <tr>\n",
       "      <th>5</th>\n",
       "      <td>GUEST_INVITE</td>\n",
       "      <td>0</td>\n",
       "      <td>0</td>\n",
       "      <td>193</td>\n",
       "      <td>5240.0</td>\n",
       "      <td>0</td>\n",
       "    </tr>\n",
       "  </tbody>\n",
       "</table>\n",
       "</div>"
      ],
      "text/plain": [
       "          creation_source  opted_in_to_mailing_list  \\\n",
       "object_id                                             \n",
       "1            GUEST_INVITE                         1   \n",
       "2              ORG_INVITE                         0   \n",
       "3              ORG_INVITE                         0   \n",
       "4            GUEST_INVITE                         0   \n",
       "5            GUEST_INVITE                         0   \n",
       "\n",
       "           enabled_for_marketing_drip  org_id  invited_by_user_id  Adopted  \n",
       "object_id                                                                   \n",
       "1                                   0      11             10803.0        0  \n",
       "2                                   0       1               316.0        1  \n",
       "3                                   0      94              1525.0        0  \n",
       "4                                   0       1              5151.0        0  \n",
       "5                                   0     193              5240.0        0  "
      ]
     },
     "execution_count": 15,
     "metadata": {},
     "output_type": "execute_result"
    }
   ],
   "source": [
    "#removing unesscary features\n",
    "finalData1 = finalData.drop([ 'name', 'email','last_session_creation_time', 'creation_time'],axis=1)\n",
    "finalData1.head()"
   ]
  },
  {
   "cell_type": "code",
   "execution_count": 16,
   "metadata": {},
   "outputs": [],
   "source": [
    "#fill missing data or and making invited by user id a binaary \n",
    "finalData1['invited_by_user_id'] = finalData1['invited_by_user_id'].fillna(0)\n",
    "finalData1['invited_by_user_id'] = finalData1['invited_by_user_id'].apply(\n",
    "        lambda x: 1 if x!=0 else 0)"
   ]
  },
  {
   "cell_type": "code",
   "execution_count": 17,
   "metadata": {},
   "outputs": [
    {
     "name": "stdout",
     "output_type": "stream",
     "text": [
      "<class 'pandas.core.frame.DataFrame'>\n",
      "Int64Index: 12000 entries, 1 to 12000\n",
      "Data columns (total 6 columns):\n",
      "creation_source               12000 non-null object\n",
      "opted_in_to_mailing_list      12000 non-null int64\n",
      "enabled_for_marketing_drip    12000 non-null int64\n",
      "org_id                        12000 non-null int64\n",
      "invited_by_user_id            12000 non-null int64\n",
      "Adopted                       12000 non-null int64\n",
      "dtypes: int64(5), object(1)\n",
      "memory usage: 656.2+ KB\n"
     ]
    }
   ],
   "source": [
    "finalData1.info()"
   ]
  },
  {
   "cell_type": "code",
   "execution_count": 18,
   "metadata": {},
   "outputs": [
    {
     "data": {
      "text/plain": [
       "{'GUEST_INVITE',\n",
       " 'ORG_INVITE',\n",
       " 'PERSONAL_PROJECTS',\n",
       " 'SIGNUP',\n",
       " 'SIGNUP_GOOGLE_AUTH'}"
      ]
     },
     "execution_count": 18,
     "metadata": {},
     "output_type": "execute_result"
    }
   ],
   "source": [
    "#see the values of each column\n",
    "set(finalData1['creation_source'])"
   ]
  },
  {
   "cell_type": "code",
   "execution_count": 19,
   "metadata": {},
   "outputs": [
    {
     "name": "stdout",
     "output_type": "stream",
     "text": [
      "{0, 1}\n",
      "{0, 1}\n",
      "{0, 1}\n",
      "{0, 1, 2, 3, 4, 5, 6, 7, 8, 9, 10, 11, 12, 13, 14, 15, 16, 17, 18, 19, 20, 21, 22, 23, 24, 25, 26, 27, 28, 29, 30, 31, 32, 33, 34, 35, 36, 37, 38, 39, 40, 41, 42, 43, 44, 45, 46, 47, 48, 49, 50, 51, 52, 53, 54, 55, 56, 57, 58, 59, 60, 61, 62, 63, 64, 65, 66, 67, 68, 69, 70, 71, 72, 73, 74, 75, 76, 77, 78, 79, 80, 81, 82, 83, 84, 85, 86, 87, 88, 89, 90, 91, 92, 93, 94, 95, 96, 97, 98, 99, 100, 101, 102, 103, 104, 105, 106, 107, 108, 109, 110, 111, 112, 113, 114, 115, 116, 117, 118, 119, 120, 121, 122, 123, 124, 125, 126, 127, 128, 129, 130, 131, 132, 133, 134, 135, 136, 137, 138, 139, 140, 141, 142, 143, 144, 145, 146, 147, 148, 149, 150, 151, 152, 153, 154, 155, 156, 157, 158, 159, 160, 161, 162, 163, 164, 165, 166, 167, 168, 169, 170, 171, 172, 173, 174, 175, 176, 177, 178, 179, 180, 181, 182, 183, 184, 185, 186, 187, 188, 189, 190, 191, 192, 193, 194, 195, 196, 197, 198, 199, 200, 201, 202, 203, 204, 205, 206, 207, 208, 209, 210, 211, 212, 213, 214, 215, 216, 217, 218, 219, 220, 221, 222, 223, 224, 225, 226, 227, 228, 229, 230, 231, 232, 233, 234, 235, 236, 237, 238, 239, 240, 241, 242, 243, 244, 245, 246, 247, 248, 249, 250, 251, 252, 253, 254, 255, 256, 257, 258, 259, 260, 261, 262, 263, 264, 265, 266, 267, 268, 269, 270, 271, 272, 273, 274, 275, 276, 277, 278, 279, 280, 281, 282, 283, 284, 285, 286, 287, 288, 289, 290, 291, 292, 293, 294, 295, 296, 297, 298, 299, 300, 301, 302, 303, 304, 305, 306, 307, 308, 309, 310, 311, 312, 313, 314, 315, 316, 317, 318, 319, 320, 321, 322, 323, 324, 325, 326, 327, 328, 329, 330, 331, 332, 333, 334, 335, 336, 337, 338, 339, 340, 341, 342, 343, 344, 345, 346, 347, 348, 349, 350, 351, 352, 353, 354, 355, 356, 357, 358, 359, 360, 361, 362, 363, 364, 365, 366, 367, 368, 369, 370, 371, 372, 373, 374, 375, 376, 377, 378, 379, 380, 381, 382, 383, 384, 385, 386, 387, 388, 389, 390, 391, 392, 393, 394, 395, 396, 397, 398, 399, 400, 401, 402, 403, 404, 405, 406, 407, 408, 409, 410, 411, 412, 413, 414, 415, 416}\n"
     ]
    }
   ],
   "source": [
    "print(set(finalData1['opted_in_to_mailing_list']))\n",
    "print(set(finalData1['invited_by_user_id']))\n",
    "print(set(finalData1['Adopted']))\n",
    "print(set(finalData1['org_id']))"
   ]
  },
  {
   "cell_type": "code",
   "execution_count": 20,
   "metadata": {},
   "outputs": [],
   "source": [
    "activeuser = finalData1[finalData1['Adopted']==1]"
   ]
  },
  {
   "cell_type": "code",
   "execution_count": 21,
   "metadata": {},
   "outputs": [
    {
     "data": {
      "text/plain": [
       "1472"
      ]
     },
     "execution_count": 21,
     "metadata": {},
     "output_type": "execute_result"
    }
   ],
   "source": [
    "# is seems like adopted users a rare feature\n",
    "len(activeuser)"
   ]
  },
  {
   "cell_type": "code",
   "execution_count": 22,
   "metadata": {},
   "outputs": [
    {
     "name": "stdout",
     "output_type": "stream",
     "text": [
      "        opted_in_to_mailing_list  enabled_for_marketing_drip  \\\n",
      "org_id                                                         \n",
      "0                             77                          42   \n",
      "1                             45                          20   \n",
      "2                             36                          27   \n",
      "3                             41                          16   \n",
      "4                             45                          25   \n",
      "5                             34                          21   \n",
      "6                             33                          17   \n",
      "7                             29                          23   \n",
      "8                             21                          10   \n",
      "9                             36                          15   \n",
      "10                            27                          19   \n",
      "11                            18                           9   \n",
      "12                            20                          13   \n",
      "13                            22                          16   \n",
      "14                            22                          12   \n",
      "15                            15                           9   \n",
      "16                            14                           8   \n",
      "17                            16                          10   \n",
      "18                             9                           9   \n",
      "19                            17                          12   \n",
      "20                            16                           7   \n",
      "21                            21                          11   \n",
      "22                            27                          14   \n",
      "23                            17                           8   \n",
      "24                            12                          10   \n",
      "25                            21                          15   \n",
      "26                            16                           9   \n",
      "27                            11                           5   \n",
      "28                            14                          10   \n",
      "29                             9                           4   \n",
      "...                          ...                         ...   \n",
      "387                            4                           3   \n",
      "388                            7                           4   \n",
      "389                            0                           0   \n",
      "390                            4                           1   \n",
      "391                            3                           1   \n",
      "392                            9                           5   \n",
      "393                            6                           2   \n",
      "394                            7                           5   \n",
      "395                            6                           2   \n",
      "396                            2                           1   \n",
      "397                            3                           0   \n",
      "398                            8                           5   \n",
      "399                            4                           2   \n",
      "400                            3                           2   \n",
      "401                            5                           4   \n",
      "402                            4                           4   \n",
      "403                            1                           1   \n",
      "404                            1                           1   \n",
      "405                            1                           3   \n",
      "406                            8                           9   \n",
      "407                            3                           3   \n",
      "408                            5                           3   \n",
      "409                            4                           2   \n",
      "410                            1                           0   \n",
      "411                            2                           1   \n",
      "412                            5                           4   \n",
      "413                            4                           4   \n",
      "414                            5                           3   \n",
      "415                            2                           0   \n",
      "416                            0                           1   \n",
      "\n",
      "        invited_by_user_id  Adopted  \n",
      "org_id                               \n",
      "0                      159       11  \n",
      "1                      119       13  \n",
      "2                      100       14  \n",
      "3                      102       14  \n",
      "4                       94       14  \n",
      "5                       74       10  \n",
      "6                       85        8  \n",
      "7                       51       16  \n",
      "8                       44        7  \n",
      "9                       76       14  \n",
      "10                      57        8  \n",
      "11                      47        7  \n",
      "12                      44        6  \n",
      "13                      33       12  \n",
      "14                      40        5  \n",
      "15                      35        8  \n",
      "16                      37        7  \n",
      "17                      38        5  \n",
      "18                      44        5  \n",
      "19                      30        5  \n",
      "20                      40        9  \n",
      "21                      28        4  \n",
      "22                      23        4  \n",
      "23                      25        4  \n",
      "24                      36       10  \n",
      "25                      39        7  \n",
      "26                      24        2  \n",
      "27                      30        5  \n",
      "28                      30        5  \n",
      "29                      28        3  \n",
      "...                    ...      ...  \n",
      "387                      6        6  \n",
      "388                     10        4  \n",
      "389                      9        3  \n",
      "390                      3        1  \n",
      "391                      4        2  \n",
      "392                      5        5  \n",
      "393                      4        2  \n",
      "394                     13        0  \n",
      "395                      5        3  \n",
      "396                      5        0  \n",
      "397                      4        1  \n",
      "398                      8        2  \n",
      "399                      6        5  \n",
      "400                      5        3  \n",
      "401                     10        2  \n",
      "402                      9        1  \n",
      "403                      5        1  \n",
      "404                      5        2  \n",
      "405                      5        2  \n",
      "406                     16        1  \n",
      "407                      6        2  \n",
      "408                     10        3  \n",
      "409                      6        1  \n",
      "410                      5        1  \n",
      "411                     12        3  \n",
      "412                      9        0  \n",
      "413                     10        2  \n",
      "414                     12        2  \n",
      "415                     11        6  \n",
      "416                      0        0  \n",
      "\n",
      "[417 rows x 4 columns]\n"
     ]
    }
   ],
   "source": [
    "org = finalData1.groupby('org_id').sum()\n",
    "print(org)"
   ]
  },
  {
   "cell_type": "code",
   "execution_count": 23,
   "metadata": {},
   "outputs": [
    {
     "name": "stdout",
     "output_type": "stream",
     "text": [
      "<class 'pandas.core.frame.DataFrame'>\n",
      "Int64Index: 12000 entries, 1 to 12000\n",
      "Data columns (total 6 columns):\n",
      "creation_source               12000 non-null object\n",
      "opted_in_to_mailing_list      12000 non-null int64\n",
      "enabled_for_marketing_drip    12000 non-null int64\n",
      "org_id                        12000 non-null int64\n",
      "invited_by_user_id            12000 non-null int64\n",
      "Adopted                       12000 non-null int64\n",
      "dtypes: int64(5), object(1)\n",
      "memory usage: 656.2+ KB\n"
     ]
    }
   ],
   "source": [
    "#organize/catorgirze the organizaton feature\n",
    "org_cata = []\n",
    "for i in finalData1['org_id']:\n",
    "    cata = org.loc[i,'Adopted']\n",
    "    org_cata.append(cata)\n",
    "finalData1['org_id'] = org_cata\n",
    "finalData1.info()"
   ]
  },
  {
   "cell_type": "code",
   "execution_count": 24,
   "metadata": {},
   "outputs": [],
   "source": [
    "#get the dummies features\n",
    "finalData2 = pd.get_dummies(data=finalData1, columns=['creation_source'])"
   ]
  },
  {
   "cell_type": "code",
   "execution_count": 25,
   "metadata": {},
   "outputs": [
    {
     "name": "stdout",
     "output_type": "stream",
     "text": [
      "<class 'pandas.core.frame.DataFrame'>\n",
      "Int64Index: 12000 entries, 1 to 12000\n",
      "Data columns (total 10 columns):\n",
      "opted_in_to_mailing_list              12000 non-null int64\n",
      "enabled_for_marketing_drip            12000 non-null int64\n",
      "org_id                                12000 non-null int64\n",
      "invited_by_user_id                    12000 non-null int64\n",
      "Adopted                               12000 non-null int64\n",
      "creation_source_GUEST_INVITE          12000 non-null uint8\n",
      "creation_source_ORG_INVITE            12000 non-null uint8\n",
      "creation_source_PERSONAL_PROJECTS     12000 non-null uint8\n",
      "creation_source_SIGNUP                12000 non-null uint8\n",
      "creation_source_SIGNUP_GOOGLE_AUTH    12000 non-null uint8\n",
      "dtypes: int64(5), uint8(5)\n",
      "memory usage: 621.1 KB\n"
     ]
    }
   ],
   "source": [
    "finalData2.info()"
   ]
  },
  {
   "cell_type": "code",
   "execution_count": 26,
   "metadata": {},
   "outputs": [],
   "source": [
    "finalData2 = pd.get_dummies(data=finalData2, columns=['org_id'])"
   ]
  },
  {
   "cell_type": "code",
   "execution_count": 27,
   "metadata": {},
   "outputs": [
    {
     "name": "stdout",
     "output_type": "stream",
     "text": [
      "<class 'pandas.core.frame.DataFrame'>\n",
      "Int64Index: 12000 entries, 1 to 12000\n",
      "Data columns (total 25 columns):\n",
      "opted_in_to_mailing_list              12000 non-null int64\n",
      "enabled_for_marketing_drip            12000 non-null int64\n",
      "invited_by_user_id                    12000 non-null int64\n",
      "Adopted                               12000 non-null int64\n",
      "creation_source_GUEST_INVITE          12000 non-null uint8\n",
      "creation_source_ORG_INVITE            12000 non-null uint8\n",
      "creation_source_PERSONAL_PROJECTS     12000 non-null uint8\n",
      "creation_source_SIGNUP                12000 non-null uint8\n",
      "creation_source_SIGNUP_GOOGLE_AUTH    12000 non-null uint8\n",
      "org_id_0                              12000 non-null uint8\n",
      "org_id_1                              12000 non-null uint8\n",
      "org_id_2                              12000 non-null uint8\n",
      "org_id_3                              12000 non-null uint8\n",
      "org_id_4                              12000 non-null uint8\n",
      "org_id_5                              12000 non-null uint8\n",
      "org_id_6                              12000 non-null uint8\n",
      "org_id_7                              12000 non-null uint8\n",
      "org_id_8                              12000 non-null uint8\n",
      "org_id_9                              12000 non-null uint8\n",
      "org_id_10                             12000 non-null uint8\n",
      "org_id_11                             12000 non-null uint8\n",
      "org_id_12                             12000 non-null uint8\n",
      "org_id_13                             12000 non-null uint8\n",
      "org_id_14                             12000 non-null uint8\n",
      "org_id_16                             12000 non-null uint8\n",
      "dtypes: int64(4), uint8(21)\n",
      "memory usage: 714.8 KB\n"
     ]
    }
   ],
   "source": [
    "#the set used for modeling/Data Modeling \n",
    "finalData2.info()"
   ]
  },
  {
   "cell_type": "code",
   "execution_count": 28,
   "metadata": {},
   "outputs": [
    {
     "data": {
      "text/html": [
       "<div>\n",
       "<style scoped>\n",
       "    .dataframe tbody tr th:only-of-type {\n",
       "        vertical-align: middle;\n",
       "    }\n",
       "\n",
       "    .dataframe tbody tr th {\n",
       "        vertical-align: top;\n",
       "    }\n",
       "\n",
       "    .dataframe thead th {\n",
       "        text-align: right;\n",
       "    }\n",
       "</style>\n",
       "<table border=\"1\" class=\"dataframe\">\n",
       "  <thead>\n",
       "    <tr style=\"text-align: right;\">\n",
       "      <th></th>\n",
       "      <th>opted_in_to_mailing_list</th>\n",
       "      <th>enabled_for_marketing_drip</th>\n",
       "      <th>invited_by_user_id</th>\n",
       "      <th>Adopted</th>\n",
       "      <th>creation_source_GUEST_INVITE</th>\n",
       "      <th>creation_source_ORG_INVITE</th>\n",
       "      <th>creation_source_PERSONAL_PROJECTS</th>\n",
       "      <th>creation_source_SIGNUP</th>\n",
       "      <th>creation_source_SIGNUP_GOOGLE_AUTH</th>\n",
       "      <th>org_id_0</th>\n",
       "      <th>...</th>\n",
       "      <th>org_id_6</th>\n",
       "      <th>org_id_7</th>\n",
       "      <th>org_id_8</th>\n",
       "      <th>org_id_9</th>\n",
       "      <th>org_id_10</th>\n",
       "      <th>org_id_11</th>\n",
       "      <th>org_id_12</th>\n",
       "      <th>org_id_13</th>\n",
       "      <th>org_id_14</th>\n",
       "      <th>org_id_16</th>\n",
       "    </tr>\n",
       "    <tr>\n",
       "      <th>object_id</th>\n",
       "      <th></th>\n",
       "      <th></th>\n",
       "      <th></th>\n",
       "      <th></th>\n",
       "      <th></th>\n",
       "      <th></th>\n",
       "      <th></th>\n",
       "      <th></th>\n",
       "      <th></th>\n",
       "      <th></th>\n",
       "      <th></th>\n",
       "      <th></th>\n",
       "      <th></th>\n",
       "      <th></th>\n",
       "      <th></th>\n",
       "      <th></th>\n",
       "      <th></th>\n",
       "      <th></th>\n",
       "      <th></th>\n",
       "      <th></th>\n",
       "      <th></th>\n",
       "    </tr>\n",
       "  </thead>\n",
       "  <tbody>\n",
       "    <tr>\n",
       "      <th>1</th>\n",
       "      <td>1</td>\n",
       "      <td>0</td>\n",
       "      <td>1</td>\n",
       "      <td>0</td>\n",
       "      <td>1</td>\n",
       "      <td>0</td>\n",
       "      <td>0</td>\n",
       "      <td>0</td>\n",
       "      <td>0</td>\n",
       "      <td>0</td>\n",
       "      <td>...</td>\n",
       "      <td>0</td>\n",
       "      <td>1</td>\n",
       "      <td>0</td>\n",
       "      <td>0</td>\n",
       "      <td>0</td>\n",
       "      <td>0</td>\n",
       "      <td>0</td>\n",
       "      <td>0</td>\n",
       "      <td>0</td>\n",
       "      <td>0</td>\n",
       "    </tr>\n",
       "    <tr>\n",
       "      <th>2</th>\n",
       "      <td>0</td>\n",
       "      <td>0</td>\n",
       "      <td>1</td>\n",
       "      <td>1</td>\n",
       "      <td>0</td>\n",
       "      <td>1</td>\n",
       "      <td>0</td>\n",
       "      <td>0</td>\n",
       "      <td>0</td>\n",
       "      <td>0</td>\n",
       "      <td>...</td>\n",
       "      <td>0</td>\n",
       "      <td>0</td>\n",
       "      <td>0</td>\n",
       "      <td>0</td>\n",
       "      <td>0</td>\n",
       "      <td>0</td>\n",
       "      <td>0</td>\n",
       "      <td>1</td>\n",
       "      <td>0</td>\n",
       "      <td>0</td>\n",
       "    </tr>\n",
       "    <tr>\n",
       "      <th>3</th>\n",
       "      <td>0</td>\n",
       "      <td>0</td>\n",
       "      <td>1</td>\n",
       "      <td>0</td>\n",
       "      <td>0</td>\n",
       "      <td>1</td>\n",
       "      <td>0</td>\n",
       "      <td>0</td>\n",
       "      <td>0</td>\n",
       "      <td>0</td>\n",
       "      <td>...</td>\n",
       "      <td>1</td>\n",
       "      <td>0</td>\n",
       "      <td>0</td>\n",
       "      <td>0</td>\n",
       "      <td>0</td>\n",
       "      <td>0</td>\n",
       "      <td>0</td>\n",
       "      <td>0</td>\n",
       "      <td>0</td>\n",
       "      <td>0</td>\n",
       "    </tr>\n",
       "    <tr>\n",
       "      <th>4</th>\n",
       "      <td>0</td>\n",
       "      <td>0</td>\n",
       "      <td>1</td>\n",
       "      <td>0</td>\n",
       "      <td>1</td>\n",
       "      <td>0</td>\n",
       "      <td>0</td>\n",
       "      <td>0</td>\n",
       "      <td>0</td>\n",
       "      <td>0</td>\n",
       "      <td>...</td>\n",
       "      <td>0</td>\n",
       "      <td>0</td>\n",
       "      <td>0</td>\n",
       "      <td>0</td>\n",
       "      <td>0</td>\n",
       "      <td>0</td>\n",
       "      <td>0</td>\n",
       "      <td>1</td>\n",
       "      <td>0</td>\n",
       "      <td>0</td>\n",
       "    </tr>\n",
       "    <tr>\n",
       "      <th>5</th>\n",
       "      <td>0</td>\n",
       "      <td>0</td>\n",
       "      <td>1</td>\n",
       "      <td>0</td>\n",
       "      <td>1</td>\n",
       "      <td>0</td>\n",
       "      <td>0</td>\n",
       "      <td>0</td>\n",
       "      <td>0</td>\n",
       "      <td>0</td>\n",
       "      <td>...</td>\n",
       "      <td>0</td>\n",
       "      <td>0</td>\n",
       "      <td>0</td>\n",
       "      <td>0</td>\n",
       "      <td>0</td>\n",
       "      <td>0</td>\n",
       "      <td>0</td>\n",
       "      <td>0</td>\n",
       "      <td>0</td>\n",
       "      <td>0</td>\n",
       "    </tr>\n",
       "  </tbody>\n",
       "</table>\n",
       "<p>5 rows × 25 columns</p>\n",
       "</div>"
      ],
      "text/plain": [
       "           opted_in_to_mailing_list  enabled_for_marketing_drip  \\\n",
       "object_id                                                         \n",
       "1                                 1                           0   \n",
       "2                                 0                           0   \n",
       "3                                 0                           0   \n",
       "4                                 0                           0   \n",
       "5                                 0                           0   \n",
       "\n",
       "           invited_by_user_id  Adopted  creation_source_GUEST_INVITE  \\\n",
       "object_id                                                              \n",
       "1                           1        0                             1   \n",
       "2                           1        1                             0   \n",
       "3                           1        0                             0   \n",
       "4                           1        0                             1   \n",
       "5                           1        0                             1   \n",
       "\n",
       "           creation_source_ORG_INVITE  creation_source_PERSONAL_PROJECTS  \\\n",
       "object_id                                                                  \n",
       "1                                   0                                  0   \n",
       "2                                   1                                  0   \n",
       "3                                   1                                  0   \n",
       "4                                   0                                  0   \n",
       "5                                   0                                  0   \n",
       "\n",
       "           creation_source_SIGNUP  creation_source_SIGNUP_GOOGLE_AUTH  \\\n",
       "object_id                                                               \n",
       "1                               0                                   0   \n",
       "2                               0                                   0   \n",
       "3                               0                                   0   \n",
       "4                               0                                   0   \n",
       "5                               0                                   0   \n",
       "\n",
       "           org_id_0  ...  org_id_6  org_id_7  org_id_8  org_id_9  org_id_10  \\\n",
       "object_id            ...                                                      \n",
       "1                 0  ...         0         1         0         0          0   \n",
       "2                 0  ...         0         0         0         0          0   \n",
       "3                 0  ...         1         0         0         0          0   \n",
       "4                 0  ...         0         0         0         0          0   \n",
       "5                 0  ...         0         0         0         0          0   \n",
       "\n",
       "           org_id_11  org_id_12  org_id_13  org_id_14  org_id_16  \n",
       "object_id                                                         \n",
       "1                  0          0          0          0          0  \n",
       "2                  0          0          1          0          0  \n",
       "3                  0          0          0          0          0  \n",
       "4                  0          0          1          0          0  \n",
       "5                  0          0          0          0          0  \n",
       "\n",
       "[5 rows x 25 columns]"
      ]
     },
     "execution_count": 28,
     "metadata": {},
     "output_type": "execute_result"
    }
   ],
   "source": [
    "finalData2.head()"
   ]
  },
  {
   "cell_type": "code",
   "execution_count": 29,
   "metadata": {},
   "outputs": [],
   "source": [
    "#try random forrest first \n",
    "from sklearn.model_selection import train_test_split, GridSearchCV\n",
    "from sklearn.ensemble import RandomForestClassifier\n",
    "from sklearn.metrics import classification_report, confusion_matrix"
   ]
  },
  {
   "cell_type": "code",
   "execution_count": 30,
   "metadata": {},
   "outputs": [],
   "source": [
    "y = finalData2.pop('Adopted')\n",
    "x = finalData2"
   ]
  },
  {
   "cell_type": "code",
   "execution_count": 31,
   "metadata": {},
   "outputs": [],
   "source": [
    "#train test split on the features/labels \n",
    "x_train,x_test,y_train,y_test = train_test_split(x, y, test_size = 0.30,random_state=42)"
   ]
  },
  {
   "cell_type": "code",
   "execution_count": 32,
   "metadata": {},
   "outputs": [],
   "source": [
    "clf = RandomForestClassifier(class_weight='balanced')"
   ]
  },
  {
   "cell_type": "code",
   "execution_count": 33,
   "metadata": {},
   "outputs": [
    {
     "name": "stderr",
     "output_type": "stream",
     "text": [
      "C:\\Users\\ngmat\\Anaconda3\\lib\\site-packages\\sklearn\\ensemble\\forest.py:246: FutureWarning: The default value of n_estimators will change from 10 in version 0.20 to 100 in 0.22.\n",
      "  \"10 in version 0.20 to 100 in 0.22.\", FutureWarning)\n"
     ]
    },
    {
     "data": {
      "text/plain": [
       "RandomForestClassifier(bootstrap=True, class_weight='balanced',\n",
       "            criterion='gini', max_depth=None, max_features='auto',\n",
       "            max_leaf_nodes=None, min_impurity_decrease=0.0,\n",
       "            min_impurity_split=None, min_samples_leaf=1,\n",
       "            min_samples_split=2, min_weight_fraction_leaf=0.0,\n",
       "            n_estimators=10, n_jobs=None, oob_score=False,\n",
       "            random_state=None, verbose=0, warm_start=False)"
      ]
     },
     "execution_count": 33,
     "metadata": {},
     "output_type": "execute_result"
    }
   ],
   "source": [
    "clf.fit(x_train,y_train)"
   ]
  },
  {
   "cell_type": "code",
   "execution_count": 34,
   "metadata": {},
   "outputs": [],
   "source": [
    "ypred = clf.predict(x_test)"
   ]
  },
  {
   "cell_type": "code",
   "execution_count": 35,
   "metadata": {},
   "outputs": [
    {
     "name": "stdout",
     "output_type": "stream",
     "text": [
      "              precision    recall  f1-score   support\n",
      "\n",
      "           0       0.90      0.63      0.74      3151\n",
      "           1       0.16      0.48      0.24       449\n",
      "\n",
      "   micro avg       0.61      0.61      0.61      3600\n",
      "   macro avg       0.53      0.56      0.49      3600\n",
      "weighted avg       0.80      0.61      0.68      3600\n",
      "\n"
     ]
    }
   ],
   "source": [
    "print(classification_report(y_test, ypred)) "
   ]
  },
  {
   "cell_type": "code",
   "execution_count": 36,
   "metadata": {},
   "outputs": [],
   "source": [
    "#hyper parameter tuning for random forest \n",
    "n_estimators = [4, 8, 32, 64, 100, 200, 300]\n",
    "max_features = ['auto', 'sqrt']\n",
    "max_depth = [int(x) for x in np.linspace(10, 110, num = 11)]\n",
    "max_depth.append(None)\n",
    "min_samples_split = [2, 5, 10]\n",
    "min_samples_leaf = [1, 2, 4]\n",
    "bootstrap = [True, False]\n",
    "grid1 = {'n_estimators': n_estimators,\n",
    "               'max_features': max_features,\n",
    "               'max_depth': max_depth,\n",
    "               'min_samples_split': min_samples_split,\n",
    "               'min_samples_leaf': min_samples_leaf,\n",
    "               'bootstrap': bootstrap}"
   ]
  },
  {
   "cell_type": "code",
   "execution_count": 37,
   "metadata": {},
   "outputs": [],
   "source": [
    "gridbest = GridSearchCV(estimator = clf, scoring='accuracy', param_grid = grid1,  n_jobs = -1, verbose = 2)"
   ]
  },
  {
   "cell_type": "code",
   "execution_count": 38,
   "metadata": {},
   "outputs": [
    {
     "name": "stderr",
     "output_type": "stream",
     "text": [
      "C:\\Users\\ngmat\\Anaconda3\\lib\\site-packages\\sklearn\\model_selection\\_split.py:2053: FutureWarning: You should specify a value for 'cv' instead of relying on the default value. The default value will change from 3 to 5 in version 0.22.\n",
      "  warnings.warn(CV_WARNING, FutureWarning)\n",
      "[Parallel(n_jobs=-1)]: Using backend LokyBackend with 8 concurrent workers.\n"
     ]
    },
    {
     "name": "stdout",
     "output_type": "stream",
     "text": [
      "Fitting 3 folds for each of 3024 candidates, totalling 9072 fits\n"
     ]
    },
    {
     "name": "stderr",
     "output_type": "stream",
     "text": [
      "[Parallel(n_jobs=-1)]: Done  25 tasks      | elapsed:    5.9s\n",
      "[Parallel(n_jobs=-1)]: Done 146 tasks      | elapsed:   18.4s\n",
      "[Parallel(n_jobs=-1)]: Done 349 tasks      | elapsed:   39.4s\n",
      "[Parallel(n_jobs=-1)]: Done 632 tasks      | elapsed:  1.2min\n",
      "[Parallel(n_jobs=-1)]: Done 997 tasks      | elapsed:  1.9min\n",
      "[Parallel(n_jobs=-1)]: Done 1442 tasks      | elapsed:  2.7min\n",
      "[Parallel(n_jobs=-1)]: Done 1969 tasks      | elapsed:  3.8min\n",
      "[Parallel(n_jobs=-1)]: Done 2576 tasks      | elapsed:  4.9min\n",
      "[Parallel(n_jobs=-1)]: Done 3265 tasks      | elapsed:  6.2min\n",
      "[Parallel(n_jobs=-1)]: Done 4034 tasks      | elapsed:  7.7min\n",
      "[Parallel(n_jobs=-1)]: Done 4885 tasks      | elapsed:  9.3min\n",
      "[Parallel(n_jobs=-1)]: Done 5816 tasks      | elapsed: 11.1min\n",
      "[Parallel(n_jobs=-1)]: Done 6829 tasks      | elapsed: 13.2min\n",
      "[Parallel(n_jobs=-1)]: Done 7922 tasks      | elapsed: 15.4min\n",
      "[Parallel(n_jobs=-1)]: Done 9072 out of 9072 | elapsed: 18.0min finished\n"
     ]
    },
    {
     "data": {
      "text/plain": [
       "GridSearchCV(cv='warn', error_score='raise-deprecating',\n",
       "       estimator=RandomForestClassifier(bootstrap=True, class_weight='balanced',\n",
       "            criterion='gini', max_depth=None, max_features='auto',\n",
       "            max_leaf_nodes=None, min_impurity_decrease=0.0,\n",
       "            min_impurity_split=None, min_samples_leaf=1,\n",
       "            min_samples_split=2, min_weight_fraction_leaf=0.0,\n",
       "            n_estimators=10, n_jobs=None, oob_score=False,\n",
       "            random_state=None, verbose=0, warm_start=False),\n",
       "       fit_params=None, iid='warn', n_jobs=-1,\n",
       "       param_grid={'n_estimators': [4, 8, 32, 64, 100, 200, 300], 'max_features': ['auto', 'sqrt'], 'max_depth': [10, 20, 30, 40, 50, 60, 70, 80, 90, 100, 110, None], 'min_samples_split': [2, 5, 10], 'min_samples_leaf': [1, 2, 4], 'bootstrap': [True, False]},\n",
       "       pre_dispatch='2*n_jobs', refit=True, return_train_score='warn',\n",
       "       scoring='accuracy', verbose=2)"
      ]
     },
     "execution_count": 38,
     "metadata": {},
     "output_type": "execute_result"
    }
   ],
   "source": [
    "gridbest.fit(x_train,y_train)"
   ]
  },
  {
   "cell_type": "code",
   "execution_count": 39,
   "metadata": {},
   "outputs": [
    {
     "data": {
      "text/plain": [
       "{'bootstrap': True,\n",
       " 'max_depth': 20,\n",
       " 'max_features': 'sqrt',\n",
       " 'min_samples_leaf': 1,\n",
       " 'min_samples_split': 2,\n",
       " 'n_estimators': 4}"
      ]
     },
     "execution_count": 39,
     "metadata": {},
     "output_type": "execute_result"
    }
   ],
   "source": [
    "gridbest.best_params_"
   ]
  },
  {
   "cell_type": "code",
   "execution_count": 40,
   "metadata": {},
   "outputs": [
    {
     "data": {
      "text/plain": [
       "0.6371428571428571"
      ]
     },
     "execution_count": 40,
     "metadata": {},
     "output_type": "execute_result"
    }
   ],
   "source": [
    "gridbest.best_score_"
   ]
  },
  {
   "cell_type": "code",
   "execution_count": 43,
   "metadata": {},
   "outputs": [],
   "source": [
    "#try random forest with best parameters\n",
    "clf1 = RandomForestClassifier(class_weight='balanced', max_depth=20, max_features='sqrt', min_samples_leaf=1, min_samples_split=2, n_estimators=4, bootstrap=True)"
   ]
  },
  {
   "cell_type": "code",
   "execution_count": 44,
   "metadata": {},
   "outputs": [
    {
     "data": {
      "text/plain": [
       "RandomForestClassifier(bootstrap=True, class_weight='balanced',\n",
       "            criterion='gini', max_depth=20, max_features='sqrt',\n",
       "            max_leaf_nodes=None, min_impurity_decrease=0.0,\n",
       "            min_impurity_split=None, min_samples_leaf=1,\n",
       "            min_samples_split=2, min_weight_fraction_leaf=0.0,\n",
       "            n_estimators=4, n_jobs=None, oob_score=False,\n",
       "            random_state=None, verbose=0, warm_start=False)"
      ]
     },
     "execution_count": 44,
     "metadata": {},
     "output_type": "execute_result"
    }
   ],
   "source": [
    "clf1.fit(x_train,y_train)"
   ]
  },
  {
   "cell_type": "code",
   "execution_count": 45,
   "metadata": {},
   "outputs": [],
   "source": [
    "ypred = clf1.predict(x_test)"
   ]
  },
  {
   "cell_type": "code",
   "execution_count": 46,
   "metadata": {},
   "outputs": [
    {
     "name": "stdout",
     "output_type": "stream",
     "text": [
      "              precision    recall  f1-score   support\n",
      "\n",
      "           0       0.90      0.66      0.76      3151\n",
      "           1       0.16      0.46      0.24       449\n",
      "\n",
      "   micro avg       0.64      0.64      0.64      3600\n",
      "   macro avg       0.53      0.56      0.50      3600\n",
      "weighted avg       0.80      0.64      0.70      3600\n",
      "\n"
     ]
    }
   ],
   "source": [
    "#does not seem like performing model\n",
    "print(classification_report(y_test, ypred)) "
   ]
  },
  {
   "cell_type": "code",
   "execution_count": 47,
   "metadata": {},
   "outputs": [],
   "source": [
    "#try gradient boosting model as it predict on the error/term\n",
    "from sklearn.ensemble import GradientBoostingClassifier"
   ]
  },
  {
   "cell_type": "code",
   "execution_count": 53,
   "metadata": {},
   "outputs": [],
   "source": [
    "gbm = GradientBoostingClassifier(max_features='sqrt')"
   ]
  },
  {
   "cell_type": "code",
   "execution_count": 54,
   "metadata": {},
   "outputs": [
    {
     "data": {
      "text/plain": [
       "GradientBoostingClassifier(criterion='friedman_mse', init=None,\n",
       "              learning_rate=0.1, loss='deviance', max_depth=3,\n",
       "              max_features='sqrt', max_leaf_nodes=None,\n",
       "              min_impurity_decrease=0.0, min_impurity_split=None,\n",
       "              min_samples_leaf=1, min_samples_split=2,\n",
       "              min_weight_fraction_leaf=0.0, n_estimators=100,\n",
       "              n_iter_no_change=None, presort='auto', random_state=None,\n",
       "              subsample=1.0, tol=0.0001, validation_fraction=0.1,\n",
       "              verbose=0, warm_start=False)"
      ]
     },
     "execution_count": 54,
     "metadata": {},
     "output_type": "execute_result"
    }
   ],
   "source": [
    "gbm.fit(x_train,y_train)"
   ]
  },
  {
   "cell_type": "code",
   "execution_count": 55,
   "metadata": {},
   "outputs": [],
   "source": [
    "ypred = gbm.predict(x_test)"
   ]
  },
  {
   "cell_type": "code",
   "execution_count": 56,
   "metadata": {},
   "outputs": [
    {
     "name": "stdout",
     "output_type": "stream",
     "text": [
      "              precision    recall  f1-score   support\n",
      "\n",
      "           0       0.88      1.00      0.93      3151\n",
      "           1       0.00      0.00      0.00       449\n",
      "\n",
      "   micro avg       0.88      0.88      0.88      3600\n",
      "   macro avg       0.44      0.50      0.47      3600\n",
      "weighted avg       0.77      0.88      0.82      3600\n",
      "\n"
     ]
    },
    {
     "name": "stderr",
     "output_type": "stream",
     "text": [
      "C:\\Users\\ngmat\\Anaconda3\\lib\\site-packages\\sklearn\\metrics\\classification.py:1143: UndefinedMetricWarning: Precision and F-score are ill-defined and being set to 0.0 in labels with no predicted samples.\n",
      "  'precision', 'predicted', average, warn_for)\n"
     ]
    }
   ],
   "source": [
    "#seems the same as rf\n",
    "print(classification_report(y_test, ypred)) "
   ]
  },
  {
   "cell_type": "code",
   "execution_count": 68,
   "metadata": {},
   "outputs": [],
   "source": [
    "#hyperparameter tune the gb model\n",
    "gvparams = {'n_estimators':[40,45,50,55,60],'learning_rate':[.01,0.02,0.03,0.04,0.05],\n",
    "              'max_depth':[1,2,3,4,5]}"
   ]
  },
  {
   "cell_type": "code",
   "execution_count": 58,
   "metadata": {},
   "outputs": [],
   "source": [
    "bestgrid1 = GridSearchCV(estimator=gbm, param_grid=gvparams, scoring='accuracy')"
   ]
  },
  {
   "cell_type": "code",
   "execution_count": 59,
   "metadata": {},
   "outputs": [
    {
     "name": "stderr",
     "output_type": "stream",
     "text": [
      "C:\\Users\\ngmat\\Anaconda3\\lib\\site-packages\\sklearn\\model_selection\\_split.py:2053: FutureWarning: You should specify a value for 'cv' instead of relying on the default value. The default value will change from 3 to 5 in version 0.22.\n",
      "  warnings.warn(CV_WARNING, FutureWarning)\n"
     ]
    },
    {
     "data": {
      "text/plain": [
       "GridSearchCV(cv='warn', error_score='raise-deprecating',\n",
       "       estimator=GradientBoostingClassifier(criterion='friedman_mse', init=None,\n",
       "              learning_rate=0.1, loss='deviance', max_depth=3,\n",
       "              max_features='sqrt', max_leaf_nodes=None,\n",
       "              min_impurity_decrease=0.0, min_impurity_split=None,\n",
       "              min_samples_leaf=1, min_sam...      subsample=1.0, tol=0.0001, validation_fraction=0.1,\n",
       "              verbose=0, warm_start=False),\n",
       "       fit_params=None, iid='warn', n_jobs=None,\n",
       "       param_grid={'n_estimators': [40, 45, 50, 55, 60], 'learning_rate': [0.01, 0.02, 0.03, 0.04, 0.05], 'max_depth': [1, 2, 3, 4, 5]},\n",
       "       pre_dispatch='2*n_jobs', refit=True, return_train_score='warn',\n",
       "       scoring='accuracy', verbose=0)"
      ]
     },
     "execution_count": 59,
     "metadata": {},
     "output_type": "execute_result"
    }
   ],
   "source": [
    "bestgrid1.fit(x_train,y_train)"
   ]
  },
  {
   "cell_type": "code",
   "execution_count": 60,
   "metadata": {},
   "outputs": [
    {
     "data": {
      "text/plain": [
       "{'learning_rate': 0.01, 'max_depth': 1, 'n_estimators': 40}"
      ]
     },
     "execution_count": 60,
     "metadata": {},
     "output_type": "execute_result"
    }
   ],
   "source": [
    "bestgrid1.best_params_"
   ]
  },
  {
   "cell_type": "code",
   "execution_count": 61,
   "metadata": {},
   "outputs": [
    {
     "data": {
      "text/plain": [
       "0.8782142857142857"
      ]
     },
     "execution_count": 61,
     "metadata": {},
     "output_type": "execute_result"
    }
   ],
   "source": [
    "#seems like a better performer\n",
    "bestgrid1.best_score_"
   ]
  },
  {
   "cell_type": "code",
   "execution_count": 62,
   "metadata": {},
   "outputs": [],
   "source": [
    "#use the best parameters\n",
    "gbm1 = GradientBoostingClassifier(max_features='sqrt', learning_rate=0.01, max_depth=1, n_estimators=40)"
   ]
  },
  {
   "cell_type": "code",
   "execution_count": 63,
   "metadata": {},
   "outputs": [
    {
     "data": {
      "text/plain": [
       "GradientBoostingClassifier(criterion='friedman_mse', init=None,\n",
       "              learning_rate=0.01, loss='deviance', max_depth=1,\n",
       "              max_features='sqrt', max_leaf_nodes=None,\n",
       "              min_impurity_decrease=0.0, min_impurity_split=None,\n",
       "              min_samples_leaf=1, min_samples_split=2,\n",
       "              min_weight_fraction_leaf=0.0, n_estimators=40,\n",
       "              n_iter_no_change=None, presort='auto', random_state=None,\n",
       "              subsample=1.0, tol=0.0001, validation_fraction=0.1,\n",
       "              verbose=0, warm_start=False)"
      ]
     },
     "execution_count": 63,
     "metadata": {},
     "output_type": "execute_result"
    }
   ],
   "source": [
    "gbm1.fit(x_train,y_train)"
   ]
  },
  {
   "cell_type": "code",
   "execution_count": 65,
   "metadata": {},
   "outputs": [],
   "source": [
    "ypred = gbm1.predict(x_test)"
   ]
  },
  {
   "cell_type": "code",
   "execution_count": 66,
   "metadata": {},
   "outputs": [
    {
     "name": "stdout",
     "output_type": "stream",
     "text": [
      "              precision    recall  f1-score   support\n",
      "\n",
      "           0       0.88      1.00      0.93      3151\n",
      "           1       0.00      0.00      0.00       449\n",
      "\n",
      "   micro avg       0.88      0.88      0.88      3600\n",
      "   macro avg       0.44      0.50      0.47      3600\n",
      "weighted avg       0.77      0.88      0.82      3600\n",
      "\n"
     ]
    },
    {
     "name": "stderr",
     "output_type": "stream",
     "text": [
      "C:\\Users\\ngmat\\Anaconda3\\lib\\site-packages\\sklearn\\metrics\\classification.py:1143: UndefinedMetricWarning: Precision and F-score are ill-defined and being set to 0.0 in labels with no predicted samples.\n",
      "  'precision', 'predicted', average, warn_for)\n"
     ]
    }
   ],
   "source": [
    "#same classfication as above\n",
    "print(classification_report(y_test, ypred)) "
   ]
  },
  {
   "cell_type": "code",
   "execution_count": 67,
   "metadata": {},
   "outputs": [
    {
     "data": {
      "text/html": [
       "<div>\n",
       "<style scoped>\n",
       "    .dataframe tbody tr th:only-of-type {\n",
       "        vertical-align: middle;\n",
       "    }\n",
       "\n",
       "    .dataframe tbody tr th {\n",
       "        vertical-align: top;\n",
       "    }\n",
       "\n",
       "    .dataframe thead th {\n",
       "        text-align: right;\n",
       "    }\n",
       "</style>\n",
       "<table border=\"1\" class=\"dataframe\">\n",
       "  <thead>\n",
       "    <tr style=\"text-align: right;\">\n",
       "      <th></th>\n",
       "      <th>GBM</th>\n",
       "    </tr>\n",
       "  </thead>\n",
       "  <tbody>\n",
       "    <tr>\n",
       "      <th>creation_source_PERSONAL_PROJECTS</th>\n",
       "      <td>0.313022</td>\n",
       "    </tr>\n",
       "    <tr>\n",
       "      <th>org_id_0</th>\n",
       "      <td>0.179382</td>\n",
       "    </tr>\n",
       "    <tr>\n",
       "      <th>org_id_5</th>\n",
       "      <td>0.153601</td>\n",
       "    </tr>\n",
       "    <tr>\n",
       "      <th>org_id_6</th>\n",
       "      <td>0.124505</td>\n",
       "    </tr>\n",
       "    <tr>\n",
       "      <th>org_id_1</th>\n",
       "      <td>0.090779</td>\n",
       "    </tr>\n",
       "    <tr>\n",
       "      <th>creation_source_SIGNUP_GOOGLE_AUTH</th>\n",
       "      <td>0.047849</td>\n",
       "    </tr>\n",
       "    <tr>\n",
       "      <th>org_id_11</th>\n",
       "      <td>0.025215</td>\n",
       "    </tr>\n",
       "    <tr>\n",
       "      <th>org_id_14</th>\n",
       "      <td>0.014154</td>\n",
       "    </tr>\n",
       "    <tr>\n",
       "      <th>org_id_7</th>\n",
       "      <td>0.012982</td>\n",
       "    </tr>\n",
       "    <tr>\n",
       "      <th>org_id_2</th>\n",
       "      <td>0.012038</td>\n",
       "    </tr>\n",
       "    <tr>\n",
       "      <th>opted_in_to_mailing_list</th>\n",
       "      <td>0.011973</td>\n",
       "    </tr>\n",
       "    <tr>\n",
       "      <th>invited_by_user_id</th>\n",
       "      <td>0.010226</td>\n",
       "    </tr>\n",
       "    <tr>\n",
       "      <th>org_id_13</th>\n",
       "      <td>0.004274</td>\n",
       "    </tr>\n",
       "    <tr>\n",
       "      <th>org_id_9</th>\n",
       "      <td>0.000000</td>\n",
       "    </tr>\n",
       "    <tr>\n",
       "      <th>org_id_12</th>\n",
       "      <td>0.000000</td>\n",
       "    </tr>\n",
       "    <tr>\n",
       "      <th>org_id_10</th>\n",
       "      <td>0.000000</td>\n",
       "    </tr>\n",
       "    <tr>\n",
       "      <th>org_id_4</th>\n",
       "      <td>0.000000</td>\n",
       "    </tr>\n",
       "    <tr>\n",
       "      <th>org_id_8</th>\n",
       "      <td>0.000000</td>\n",
       "    </tr>\n",
       "    <tr>\n",
       "      <th>enabled_for_marketing_drip</th>\n",
       "      <td>0.000000</td>\n",
       "    </tr>\n",
       "    <tr>\n",
       "      <th>org_id_3</th>\n",
       "      <td>0.000000</td>\n",
       "    </tr>\n",
       "    <tr>\n",
       "      <th>creation_source_SIGNUP</th>\n",
       "      <td>0.000000</td>\n",
       "    </tr>\n",
       "    <tr>\n",
       "      <th>creation_source_ORG_INVITE</th>\n",
       "      <td>0.000000</td>\n",
       "    </tr>\n",
       "    <tr>\n",
       "      <th>creation_source_GUEST_INVITE</th>\n",
       "      <td>0.000000</td>\n",
       "    </tr>\n",
       "    <tr>\n",
       "      <th>org_id_16</th>\n",
       "      <td>0.000000</td>\n",
       "    </tr>\n",
       "  </tbody>\n",
       "</table>\n",
       "</div>"
      ],
      "text/plain": [
       "                                         GBM\n",
       "creation_source_PERSONAL_PROJECTS   0.313022\n",
       "org_id_0                            0.179382\n",
       "org_id_5                            0.153601\n",
       "org_id_6                            0.124505\n",
       "org_id_1                            0.090779\n",
       "creation_source_SIGNUP_GOOGLE_AUTH  0.047849\n",
       "org_id_11                           0.025215\n",
       "org_id_14                           0.014154\n",
       "org_id_7                            0.012982\n",
       "org_id_2                            0.012038\n",
       "opted_in_to_mailing_list            0.011973\n",
       "invited_by_user_id                  0.010226\n",
       "org_id_13                           0.004274\n",
       "org_id_9                            0.000000\n",
       "org_id_12                           0.000000\n",
       "org_id_10                           0.000000\n",
       "org_id_4                            0.000000\n",
       "org_id_8                            0.000000\n",
       "enabled_for_marketing_drip          0.000000\n",
       "org_id_3                            0.000000\n",
       "creation_source_SIGNUP              0.000000\n",
       "creation_source_ORG_INVITE          0.000000\n",
       "creation_source_GUEST_INVITE        0.000000\n",
       "org_id_16                           0.000000"
      ]
     },
     "execution_count": 67,
     "metadata": {},
     "output_type": "execute_result"
    }
   ],
   "source": [
    "ordercoef = pd.DataFrame(gbm1.feature_importances_).transpose()\n",
    "ordercoef.columns = list(finalData2.columns)\n",
    "ordercoef.index = ['GBM'] \n",
    "ordercoef.transpose().sort_values(by='GBM',ascending=False)"
   ]
  },
  {
   "cell_type": "markdown",
   "metadata": {},
   "source": [
    "It seems like that creation_source_PERSONAL_PROJECTS is the biggest factor in making a user an adopted user followed by them being in org 0 and org 5. So if you attract more user who use this service for personal projects then there will be more adopted users. In addition, if work with org 0 and org 5 to get more users then the company can gain more adopted users. Some improvements that could be done on this assignement is to try tpot autoML to get the best performing model or try more hyperparameter tuning. "
   ]
  },
  {
   "cell_type": "code",
   "execution_count": null,
   "metadata": {},
   "outputs": [],
   "source": []
  }
 ],
 "metadata": {
  "kernelspec": {
   "display_name": "Python 3",
   "language": "python",
   "name": "python3"
  },
  "language_info": {
   "codemirror_mode": {
    "name": "ipython",
    "version": 3
   },
   "file_extension": ".py",
   "mimetype": "text/x-python",
   "name": "python",
   "nbconvert_exporter": "python",
   "pygments_lexer": "ipython3",
   "version": "3.7.3"
  }
 },
 "nbformat": 4,
 "nbformat_minor": 2
}
